{
 "cells": [
  {
   "cell_type": "markdown",
   "metadata": {
    "colab_type": "text",
    "id": "view-in-github"
   },
   "source": [
    "<a href=\"https://colab.research.google.com/github/vlamen/tue-deeplearning/blob/main/practicals/P1.2_Word_embedding.ipynb\" target=\"_parent\"><img src=\"https://colab.research.google.com/assets/colab-badge.svg\" alt=\"Open In Colab\"/></a>"
   ]
  },
  {
   "cell_type": "code",
   "execution_count": 1,
   "metadata": {},
   "outputs": [],
   "source": [
    "%matplotlib inline"
   ]
  },
  {
   "cell_type": "markdown",
   "metadata": {},
   "source": [
    "# Practical Overview\n",
    "\n",
    " In this Practical you will learn :\n",
    "- Basic concepts of word embeddings.\n",
    "- How to extract word embeddings by N-Gram in a toy example.\n",
    "- How to extract word embeddings by CBoW in a toy example.\n",
    "- How to extract word embeddings by CBoW in `Alice in Wonderland`.\n",
    "- How to perform the analogy task.\n",
    "- Reflecting on the conceptual differences between the CBoW and N-Gram model.\n",
    "\n",
    "We recommend running the practicals of this course in Google Colab. Make sure to go to additional connection options (the small arrow at the top right) -> change runtime type -> a GPU runtime to make use of GPU acceleration."
   ]
  },
  {
   "cell_type": "markdown",
   "metadata": {
    "id": "xJ4nnAY4jR4R"
   },
   "source": [
    "\n",
    "# Word Embeddings: Encoding Lexical Semantics\n",
    "\n",
    "\n",
    "Word embeddings are dense vectors of real numbers, one per word in your\n",
    "vocabulary. In NLP, it is almost always the case that your features are\n",
    "words! But how should you represent a word in a computer? You could\n",
    "store its ascii character representation, but that only tells you what\n",
    "the word *is*, it doesn't say much about what it *means* (you might be\n",
    "able to derive its part of speech from its affixes, or properties from\n",
    "its capitalization, but not much). Even more, in what sense could you\n",
    "combine these representations? We often want dense outputs from our\n",
    "neural networks, where the inputs are $|V|$ dimensional, where\n",
    "$V$ is our vocabulary, but often the outputs are only a few\n",
    "dimensional (if we are only predicting a handful of labels, for\n",
    "instance). How do we get from a massive dimensional space to a smaller\n",
    "dimensional space?\n",
    "\n",
    "How about instead of ascii representations, we use a one-hot encoding?\n",
    "That is, we represent the word $w$ by\n",
    "$$\n",
    "\\begin{align}\n",
    "\\overbrace{\\left[ 0, 0, \\dots, 1, \\dots, 0, 0 \\right]}^\\text{|V| elements}\n",
    "\\end{align}\n",
    "$$\n",
    "\n",
    "where the 1 is in a location unique to $w$. Any other word will\n",
    "have a 1 in some other location, and a 0 everywhere else.\n",
    "\n",
    "There is an enormous drawback to this representation, besides just how\n",
    "huge it is. It basically treats all words as independent entities with\n",
    "no relation to each other. What we really want is some notion of\n",
    "*similarity* between words. Why? Let's see an example.\n",
    "\n",
    "Suppose we are building a language model. Suppose we have seen the\n",
    "sentences\n",
    "\n",
    "* The mathematician ran to the store.\n",
    "* The physicist ran to the store.\n",
    "* The mathematician solved the open problem.\n",
    "\n",
    "in our training data. Now suppose we get a new sentence never before\n",
    "seen in our training data:\n",
    "\n",
    "* The physicist solved the open problem.\n",
    "\n",
    "Our language model might do OK on this sentence, but wouldn't it be much\n",
    "better if we could use the following two facts:\n",
    "\n",
    "- We have seen  mathematician and physicist in the same role in a sentence. Somehow they\n",
    "  have a semantic relation.\n",
    "* We have seen mathematician in the same role  in this new unseen sentence\n",
    "  as we are now seeing physicist.\n",
    "\n",
    "and then infer that physicist is actually a good fit in the new unseen\n",
    "sentence? This is what we mean by a notion of similarity: we mean\n",
    "*semantic similarity*, not simply having similar orthographic\n",
    "representations. It is a technique to combat the sparsity of linguistic\n",
    "data, by connecting the dots between what we have seen and what we\n",
    "haven't. This example of course relies on a fundamental linguistic\n",
    "assumption: that words appearing in similar contexts are related to each\n",
    "other semantically. This is called the [distributional\n",
    "hypothesis](https://en.wikipedia.org/wiki/Distributional_semantics).\n"
   ]
  },
  {
   "cell_type": "markdown",
   "metadata": {},
   "source": [
    "# Getting Dense Word Embeddings\n",
    "\n",
    "\n",
    "How can we solve this problem? That is, how could we actually encode\n",
    "semantic similarity in words? Maybe we think up some semantic\n",
    "attributes. For example, we see that both mathematicians and physicists\n",
    "can run, so maybe we give these words a high score for the \"is able to\n",
    "run\" semantic attribute. Think of some other attributes, and imagine\n",
    "what you might score some common words on those attributes.\n",
    "\n",
    "If each attribute is a dimension, then we might give each word a vector,\n",
    "like this:\n",
    "\n",
    "$$\n",
    "\\begin{align}\n",
    "q_\\text{mathematician} = \\left[ \\overbrace{2.3}^\\text{can run},\n",
    "   \\overbrace{9.4}^\\text{likes coffee}, \\overbrace{-5.5}^\\text{majored in Physics}, \\dots \\right]\n",
    " \\end{align}\n",
    "$$\n",
    "\n",
    "$$\n",
    "\\begin{align}\n",
    "q_\\text{physicist} = \\left[ \\overbrace{2.5}^\\text{can run},\n",
    "   \\overbrace{9.1}^\\text{likes coffee}, \\overbrace{6.4}^\\text{majored in Physics}, \\dots \\right]\n",
    "\\end{align}\n",
    "$$\n",
    "\n",
    "Then we can get a measure of similarity between these words by doing:\n",
    "\n",
    "$$\n",
    "\\begin{align}\n",
    "\\text{Similarity}(\\text{physicist}, \\text{mathematician}) = q_\\text{physicist} \\cdot q_\\text{mathematician}\n",
    "\\end{align}\n",
    "$$\n",
    "\n",
    "\n",
    "Although it is more common to normalize by the lengths:\n",
    "\n",
    "\\begin{align}\\text{Similarity}(\\text{physicist}, \\text{mathematician}) = \\frac{q_\\text{physicist} \\cdot q_\\text{mathematician}}\n",
    "   {\\| q_\\text{physicist} \\| \\| q_\\text{mathematician} \\|} = \\cos (\\phi)\\end{align}\n",
    "\n",
    "Where $\\phi$ is the angle between the two vectors. That way,\n",
    "extremely similar words (words whose embeddings point in the same\n",
    "direction) will have similarity 1. Extremely dissimilar words should\n",
    "have similarity -1.\n",
    "\n",
    "\n",
    "\n",
    "You can think of the sparse one-hot vectors from the beginning of this\n",
    "section as a special case of these new vectors we have defined, where\n",
    "each word basically has similarity 0, and we gave each word some unique\n",
    "semantic attribute. These new vectors are *dense*, which is to say their\n",
    "entries are (typically) non-zero.\n",
    "\n",
    "But these new vectors are a big pain: you could think of thousands of\n",
    "different semantic attributes that might be relevant to determining\n",
    "similarity, and how on earth would you set the values of the different\n",
    "attributes? Central to the idea of deep learning is that the neural\n",
    "network learns representations of the features, rather than requiring\n",
    "the programmer to design them herself. So why not just let the word\n",
    "embeddings be parameters in our model, and then be updated during\n",
    "training? This is exactly what we will do. We will have some *latent\n",
    "semantic attributes* that the network can, in principle, learn. Note\n",
    "that the word embeddings will probably not be interpretable. That is,\n",
    "although with our hand-crafted vectors above we can see that\n",
    "mathematicians and physicists are similar in that they both like coffee,\n",
    "if we allow a neural network to learn the embeddings and see that both\n",
    "mathematicians and physicists have a large value in the second\n",
    "dimension, it is not clear what that means. They are similar in some\n",
    "latent semantic dimension, but this probably has no interpretation to\n",
    "us.\n",
    "\n",
    "\n",
    "In summary, **word embeddings are a representation of the *semantics* of\n",
    "a word, efficiently encoding semantic information that might be relevant\n",
    "to the task at hand**. You can embed other things too: part of speech\n",
    "tags, parse trees, anything! The idea of feature embeddings is central\n",
    "to the field.\n"
   ]
  },
  {
   "cell_type": "markdown",
   "metadata": {},
   "source": [
    "# Word Embeddings in Pytorch\n",
    "\n",
    "\n",
    "Before we get to a worked example and an exercise, a few quick notes\n",
    "about how to use embeddings in Pytorch and in deep learning programming\n",
    "in general. Similar to how we defined a unique index for each word when\n",
    "making one-hot vectors, we also need to define an index for each word\n",
    "when using embeddings. These will be keys into a lookup table. That is,\n",
    "embeddings are stored as a $|V| \\times D$ matrix, where $D$\n",
    "is the dimensionality of the embeddings, such that the word assigned\n",
    "index $i$ has its embedding stored in the $i$'th row of the\n",
    "matrix. In all of code, the mapping from words to indices is a\n",
    "dictionary named word\\_to\\_ix.\n",
    "\n",
    "The module that allows you to use embeddings is torch.nn.Embedding,\n",
    "which takes two arguments: the vocabulary size, and the dimensionality\n",
    "of the embeddings.\n",
    "\n",
    "To index into this table, you must use torch.LongTensor (since the\n",
    "indices are integers, not floats).\n",
    "\n"
   ]
  },
  {
   "cell_type": "code",
   "execution_count": 2,
   "metadata": {
    "id": "SN-aYyHOjR4S"
   },
   "outputs": [
    {
     "data": {
      "text/plain": [
       "<torch._C.Generator at 0x10d3f6150>"
      ]
     },
     "execution_count": 2,
     "metadata": {},
     "output_type": "execute_result"
    }
   ],
   "source": [
    "# The first part of this practical is based on the tutorial by Robert Guthrie, which can be found here: \n",
    "# https://pytorch.org/tutorials/beginner/nlp/word_embeddings_tutorial.html\n",
    "\n",
    "import torch\n",
    "import torch.nn as nn\n",
    "import torch.nn.functional as F\n",
    "import torch.optim as optim\n",
    "import numpy as np\n",
    "torch.manual_seed(1)"
   ]
  },
  {
   "cell_type": "code",
   "execution_count": 3,
   "metadata": {
    "id": "Ki4s4m9IjR4T"
   },
   "outputs": [
    {
     "name": "stdout",
     "output_type": "stream",
     "text": [
      "tensor([[ 0.6614,  0.2669,  0.0617,  0.6213, -0.4519]],\n",
      "       grad_fn=<EmbeddingBackward0>)\n"
     ]
    }
   ],
   "source": [
    "word_to_ix = {\"hello\": 0, \"world\": 1}\n",
    "embeds = nn.Embedding(2, 5)  # 2 words in vocab, 5 dimensional embeddings\n",
    "lookup_tensor = torch.tensor([word_to_ix[\"hello\"]], dtype=torch.long)\n",
    "hello_embed = embeds(lookup_tensor)\n",
    "print(hello_embed)"
   ]
  },
  {
   "cell_type": "markdown",
   "metadata": {
    "id": "uzIyUMPKjR4U"
   },
   "source": [
    "# Getting started:  N-Gram Language Modeling in a Toy example\n",
    "\n",
    "\n",
    "Recall that in an n-gram language model, given a sequence of words\n",
    "$w$, we want to compute\n",
    "\n",
    "\\begin{align}P(w_i | w_{i-1}, w_{i-2}, \\dots, w_{i-n+1} )\\end{align}\n",
    "\n",
    "Where $w_i$ is the ith word of the sequence.\n",
    "\n",
    "In this example, we will compute the loss function on some training\n",
    "examples and update the parameters with backpropagation.\n",
    "\n",
    "\n"
   ]
  },
  {
   "cell_type": "markdown",
   "metadata": {},
   "source": [
    "##  Data Preprocessing\n",
    "\n",
    "Before we can use the data in our model, we should build a list of tuples.  Each tuple is `([ word_i-2, word_i-1 ], target word)`, we also build dictionaries to map from words to indices, i.e. word_to_ix, and map from indices to words, i.e. ix_to_word,"
   ]
  },
  {
   "cell_type": "code",
   "execution_count": 4,
   "metadata": {},
   "outputs": [
    {
     "name": "stdout",
     "output_type": "stream",
     "text": [
      "[(['When', 'forty'], 'winters'), (['forty', 'winters'], 'shall'), (['winters', 'shall'], 'besiege')]\n"
     ]
    }
   ],
   "source": [
    "CONTEXT_SIZE = 2   # a 2-gram language model\n",
    "\n",
    "# We will use Shakespeare Sonnet 2\n",
    "test_sentence = \"\"\"When forty winters shall besiege thy brow,\n",
    "And dig deep trenches in thy beauty's field,\n",
    "Thy youth's proud livery so gazed on now,\n",
    "Will be a totter'd weed of small worth held:\n",
    "Then being asked, where all thy beauty lies,\n",
    "Where all the treasure of thy lusty days;\n",
    "To say, within thine own deep sunken eyes,\n",
    "Were an all-eating shame, and thriftless praise.\n",
    "How much more praise deserv'd thy beauty's use,\n",
    "If thou couldst answer 'This fair child of mine\n",
    "Shall sum my count, and make my old excuse,'\n",
    "Proving his beauty by succession thine!\n",
    "This were to be new made when thou art old,\n",
    "And see thy blood warm when thou feel'st it cold.\"\"\".split()\n",
    "# we should tokenize the input, but we will ignore that for now\n",
    "# build a list of tuples.  Each tuple is ([ word_i-2, word_i-1 ], target word)\n",
    "trigrams = [([test_sentence[i], test_sentence[i + 1]], test_sentence[i + 2])\n",
    "            for i in range(len(test_sentence) - 2)]\n",
    "# print the first 3, just so you can see what they look like\n",
    "print(trigrams[:3])\n",
    "\n",
    "\n",
    "vocab = set(test_sentence)\n",
    "word_to_ix = {word: i for i, word in enumerate(vocab)}\n",
    "ix_to_word = {ix:word for ix, word in enumerate(vocab)}\n"
   ]
  },
  {
   "cell_type": "markdown",
   "metadata": {},
   "source": [
    "## Create N-Gram model\n",
    "We create N-Gram language model, and set the word embedding size to be 100 (or other by your preference)"
   ]
  },
  {
   "cell_type": "code",
   "execution_count": 5,
   "metadata": {
    "id": "cAWWomBFjR4V",
    "scrolled": true
   },
   "outputs": [
    {
     "name": "stdout",
     "output_type": "stream",
     "text": [
      "Epoch: 0 \tLoss: 4.588043326825167\n",
      "Epoch: 1 \tLoss: 4.536954002042787\n",
      "Epoch: 2 \tLoss: 4.486381148870012\n",
      "Epoch: 3 \tLoss: 4.4363277802425145\n",
      "Epoch: 4 \tLoss: 4.386721478099316\n",
      "Epoch: 5 \tLoss: 4.337608136961945\n",
      "Epoch: 6 \tLoss: 4.288848739809694\n",
      "Epoch: 7 \tLoss: 4.240336979384971\n",
      "Epoch: 8 \tLoss: 4.19188273902488\n",
      "Epoch: 9 \tLoss: 4.1434685593157745\n",
      "Epoch: 10 \tLoss: 4.094954838794944\n",
      "Epoch: 11 \tLoss: 4.046330367569375\n",
      "Epoch: 12 \tLoss: 3.9977029087269202\n",
      "Epoch: 13 \tLoss: 3.948841151937974\n",
      "Epoch: 14 \tLoss: 3.8998861481658125\n",
      "Epoch: 15 \tLoss: 3.850651673511066\n",
      "Epoch: 16 \tLoss: 3.801311661711836\n",
      "Epoch: 17 \tLoss: 3.7515000178750637\n",
      "Epoch: 18 \tLoss: 3.701380246508438\n",
      "Epoch: 19 \tLoss: 3.650858625901484\n",
      "Epoch: 20 \tLoss: 3.5997798738226425\n",
      "Epoch: 21 \tLoss: 3.5481972293516177\n",
      "Epoch: 22 \tLoss: 3.4961955410189334\n",
      "Epoch: 23 \tLoss: 3.443527624670383\n",
      "Epoch: 24 \tLoss: 3.3906117962524953\n",
      "Epoch: 25 \tLoss: 3.337187681577902\n",
      "Epoch: 26 \tLoss: 3.2834059896722305\n",
      "Epoch: 27 \tLoss: 3.2292822040287796\n",
      "Epoch: 28 \tLoss: 3.174693628750016\n",
      "Epoch: 29 \tLoss: 3.11971966038763\n",
      "Epoch: 30 \tLoss: 3.064471338702514\n",
      "Epoch: 31 \tLoss: 3.009023319830937\n",
      "Epoch: 32 \tLoss: 2.9532246352297014\n",
      "Epoch: 33 \tLoss: 2.8972785646936536\n",
      "Epoch: 34 \tLoss: 2.841261633202038\n",
      "Epoch: 35 \tLoss: 2.785077982244238\n",
      "Epoch: 36 \tLoss: 2.728797003758692\n",
      "Epoch: 37 \tLoss: 2.6723409859480056\n",
      "Epoch: 38 \tLoss: 2.6157393698143747\n",
      "Epoch: 39 \tLoss: 2.559071743382817\n",
      "Epoch: 40 \tLoss: 2.5023056091987983\n",
      "Epoch: 41 \tLoss: 2.4454473950694093\n",
      "Epoch: 42 \tLoss: 2.388590819804014\n",
      "Epoch: 43 \tLoss: 2.3318729722394353\n",
      "Epoch: 44 \tLoss: 2.275114378306718\n",
      "Epoch: 45 \tLoss: 2.2182389315778175\n",
      "Epoch: 46 \tLoss: 2.161781275694349\n",
      "Epoch: 47 \tLoss: 2.105253758156194\n",
      "Epoch: 48 \tLoss: 2.0489934938671315\n",
      "Epoch: 49 \tLoss: 1.9928721600929193\n",
      "Epoch: 50 \tLoss: 1.9370189746924207\n",
      "Epoch: 51 \tLoss: 1.8814072548288159\n",
      "Epoch: 52 \tLoss: 1.826241841885896\n",
      "Epoch: 53 \tLoss: 1.771448884653834\n",
      "Epoch: 54 \tLoss: 1.7172711070923679\n",
      "Epoch: 55 \tLoss: 1.6636910602054764\n",
      "Epoch: 56 \tLoss: 1.610622859370392\n",
      "Epoch: 57 \tLoss: 1.5584809751109738\n",
      "Epoch: 58 \tLoss: 1.506965658569758\n",
      "Epoch: 59 \tLoss: 1.4564421174273026\n",
      "Epoch: 60 \tLoss: 1.4067419108036345\n",
      "Epoch: 61 \tLoss: 1.3580308226884994\n",
      "Epoch: 62 \tLoss: 1.310183282974547\n",
      "Epoch: 63 \tLoss: 1.2636201604541424\n",
      "Epoch: 64 \tLoss: 1.217972364177746\n",
      "Epoch: 65 \tLoss: 1.1736144759749945\n",
      "Epoch: 66 \tLoss: 1.130279000485893\n",
      "Epoch: 67 \tLoss: 1.0881700606736462\n",
      "Epoch: 68 \tLoss: 1.0472918506217215\n",
      "Epoch: 69 \tLoss: 1.0076681193524757\n",
      "Epoch: 70 \tLoss: 0.9693961306351476\n",
      "Epoch: 71 \tLoss: 0.9322904935848396\n",
      "Epoch: 72 \tLoss: 0.896493942996042\n",
      "Epoch: 73 \tLoss: 0.8620257449492944\n",
      "Epoch: 74 \tLoss: 0.8288095386418621\n",
      "Epoch: 75 \tLoss: 0.7968464442322739\n",
      "Epoch: 76 \tLoss: 0.7661388228952357\n",
      "Epoch: 77 \tLoss: 0.7366217004250636\n",
      "Epoch: 78 \tLoss: 0.7083344859095801\n",
      "Epoch: 79 \tLoss: 0.6811720368872701\n",
      "Epoch: 80 \tLoss: 0.6551948450835405\n",
      "Epoch: 81 \tLoss: 0.6303568650531558\n",
      "Epoch: 82 \tLoss: 0.6065837676282477\n",
      "Epoch: 83 \tLoss: 0.5838832071924631\n",
      "Epoch: 84 \tLoss: 0.5622470063050237\n",
      "Epoch: 85 \tLoss: 0.5415451269497914\n",
      "Epoch: 86 \tLoss: 0.521819505280098\n",
      "Epoch: 87 \tLoss: 0.5030193544462719\n",
      "Epoch: 88 \tLoss: 0.485069733409755\n",
      "Epoch: 89 \tLoss: 0.4679865049181786\n",
      "Epoch: 90 \tLoss: 0.4516977830007013\n",
      "Epoch: 91 \tLoss: 0.436193762033914\n",
      "Epoch: 92 \tLoss: 0.42141663269922797\n",
      "Epoch: 93 \tLoss: 0.4073587725252177\n",
      "Epoch: 94 \tLoss: 0.3939328719161253\n",
      "Epoch: 95 \tLoss: 0.38120892208761875\n",
      "Epoch: 96 \tLoss: 0.36907648074284066\n",
      "Epoch: 97 \tLoss: 0.35748442140432585\n",
      "Epoch: 98 \tLoss: 0.3465042419533814\n",
      "Epoch: 99 \tLoss: 0.33600822506488953\n"
     ]
    }
   ],
   "source": [
    "EMBEDDING_DIM = 100\n",
    "\n",
    "class NGramLanguageModeler(nn.Module):\n",
    "\n",
    "    def __init__(self, vocab_size, embedding_dim, context_size):\n",
    "        super(NGramLanguageModeler, self).__init__()\n",
    "        self.embeddings = nn.Embedding(vocab_size, embedding_dim)\n",
    "        self.linear1 = nn.Linear(context_size * embedding_dim, 128)\n",
    "        self.linear2 = nn.Linear(128, vocab_size)\n",
    "\n",
    "    def forward(self, inputs):\n",
    "        embeds = self.embeddings(inputs).view((1, -1))\n",
    "        out = F.relu(self.linear1(embeds))\n",
    "        out = self.linear2(out)\n",
    "        log_probs = F.log_softmax(out, dim=1)\n",
    "        return log_probs\n",
    "\n",
    "\n",
    "\n",
    "loss_function = nn.NLLLoss()\n",
    "model = NGramLanguageModeler(len(vocab), EMBEDDING_DIM, CONTEXT_SIZE)\n",
    "optimizer = optim.SGD(model.parameters(), lr=0.001)\n",
    "\n",
    "for epoch in range(100):\n",
    "    total_loss = 0\n",
    "    for context, target in trigrams:\n",
    "\n",
    "        # Step 1. Prepare the inputs to be passed to the model (i.e, turn the words\n",
    "        # into integer indices and wrap them in tensors)\n",
    "        context_idxs = torch.tensor([word_to_ix[w] for w in context], dtype=torch.long)\n",
    "\n",
    "        # Step 2. Recall that torch *accumulates* gradients. Before passing in a\n",
    "        # new instance, you need to zero out the gradients from the old\n",
    "        # instance\n",
    "        model.zero_grad()\n",
    "\n",
    "        # Step 3. Run the forward pass, getting log probabilities over next\n",
    "        # words\n",
    "        log_probs = model(context_idxs)\n",
    "\n",
    "        # Step 4. Compute your loss function. (Again, Torch wants the target\n",
    "        # word wrapped in a tensor)\n",
    "        loss = loss_function(log_probs, torch.tensor([word_to_ix[target]], dtype=torch.long))\n",
    "\n",
    "        # Step 5. Do the backward pass and update the gradient\n",
    "        loss.backward()\n",
    "        optimizer.step()\n",
    "\n",
    "        # Get the Python number from a 1-element Tensor by calling tensor.item()\n",
    "        total_loss += loss.item()\n",
    "    average_loss= total_loss/len(trigrams)\n",
    "    print('Epoch:', epoch, '\\tLoss:', average_loss)  # The loss decreased every iteration over the training data!"
   ]
  },
  {
   "cell_type": "markdown",
   "metadata": {},
   "source": [
    "##  Check the results"
   ]
  },
  {
   "cell_type": "markdown",
   "metadata": {},
   "source": [
    "We can inspect some of the word embedding values in a pandas DataFrame:"
   ]
  },
  {
   "cell_type": "code",
   "execution_count": 6,
   "metadata": {
    "scrolled": true
   },
   "outputs": [
    {
     "data": {
      "text/html": [
       "<div>\n",
       "<style scoped>\n",
       "    .dataframe tbody tr th:only-of-type {\n",
       "        vertical-align: middle;\n",
       "    }\n",
       "\n",
       "    .dataframe tbody tr th {\n",
       "        vertical-align: top;\n",
       "    }\n",
       "\n",
       "    .dataframe thead th {\n",
       "        text-align: right;\n",
       "    }\n",
       "</style>\n",
       "<table border=\"1\" class=\"dataframe\">\n",
       "  <thead>\n",
       "    <tr style=\"text-align: right;\">\n",
       "      <th></th>\n",
       "      <th>0</th>\n",
       "      <th>1</th>\n",
       "      <th>2</th>\n",
       "      <th>3</th>\n",
       "      <th>4</th>\n",
       "      <th>5</th>\n",
       "      <th>6</th>\n",
       "      <th>7</th>\n",
       "      <th>8</th>\n",
       "      <th>9</th>\n",
       "      <th>...</th>\n",
       "      <th>90</th>\n",
       "      <th>91</th>\n",
       "      <th>92</th>\n",
       "      <th>93</th>\n",
       "      <th>94</th>\n",
       "      <th>95</th>\n",
       "      <th>96</th>\n",
       "      <th>97</th>\n",
       "      <th>98</th>\n",
       "      <th>99</th>\n",
       "    </tr>\n",
       "  </thead>\n",
       "  <tbody>\n",
       "    <tr>\n",
       "      <th>brow,</th>\n",
       "      <td>0.865480</td>\n",
       "      <td>0.244428</td>\n",
       "      <td>-0.662357</td>\n",
       "      <td>0.807966</td>\n",
       "      <td>0.440917</td>\n",
       "      <td>1.171817</td>\n",
       "      <td>1.773097</td>\n",
       "      <td>-0.094569</td>\n",
       "      <td>0.061527</td>\n",
       "      <td>-0.618992</td>\n",
       "      <td>...</td>\n",
       "      <td>-1.478321</td>\n",
       "      <td>-1.136453</td>\n",
       "      <td>-0.100516</td>\n",
       "      <td>0.344243</td>\n",
       "      <td>-1.067022</td>\n",
       "      <td>-0.874013</td>\n",
       "      <td>0.205001</td>\n",
       "      <td>0.302225</td>\n",
       "      <td>0.537401</td>\n",
       "      <td>-0.429595</td>\n",
       "    </tr>\n",
       "    <tr>\n",
       "      <th>when</th>\n",
       "      <td>0.161792</td>\n",
       "      <td>1.258247</td>\n",
       "      <td>1.333586</td>\n",
       "      <td>-0.497409</td>\n",
       "      <td>-1.987871</td>\n",
       "      <td>1.806625</td>\n",
       "      <td>0.104210</td>\n",
       "      <td>0.341012</td>\n",
       "      <td>-0.649381</td>\n",
       "      <td>-0.286051</td>\n",
       "      <td>...</td>\n",
       "      <td>-1.107141</td>\n",
       "      <td>-0.700797</td>\n",
       "      <td>0.235511</td>\n",
       "      <td>1.917278</td>\n",
       "      <td>1.837039</td>\n",
       "      <td>1.323092</td>\n",
       "      <td>-0.076608</td>\n",
       "      <td>0.346435</td>\n",
       "      <td>-0.656676</td>\n",
       "      <td>1.560256</td>\n",
       "    </tr>\n",
       "    <tr>\n",
       "      <th>sunken</th>\n",
       "      <td>0.216409</td>\n",
       "      <td>-0.574682</td>\n",
       "      <td>1.457797</td>\n",
       "      <td>1.772927</td>\n",
       "      <td>-2.019397</td>\n",
       "      <td>0.422851</td>\n",
       "      <td>0.572978</td>\n",
       "      <td>-1.798801</td>\n",
       "      <td>1.248594</td>\n",
       "      <td>1.277396</td>\n",
       "      <td>...</td>\n",
       "      <td>0.247482</td>\n",
       "      <td>-0.387332</td>\n",
       "      <td>-0.202092</td>\n",
       "      <td>-0.836490</td>\n",
       "      <td>-1.552361</td>\n",
       "      <td>-0.058105</td>\n",
       "      <td>1.201229</td>\n",
       "      <td>-2.287992</td>\n",
       "      <td>-1.013429</td>\n",
       "      <td>-0.891653</td>\n",
       "    </tr>\n",
       "    <tr>\n",
       "      <th>blood</th>\n",
       "      <td>0.146448</td>\n",
       "      <td>0.201955</td>\n",
       "      <td>1.057311</td>\n",
       "      <td>0.132179</td>\n",
       "      <td>1.403893</td>\n",
       "      <td>0.487716</td>\n",
       "      <td>-0.704623</td>\n",
       "      <td>-0.829265</td>\n",
       "      <td>0.101558</td>\n",
       "      <td>0.195852</td>\n",
       "      <td>...</td>\n",
       "      <td>0.344618</td>\n",
       "      <td>-0.551646</td>\n",
       "      <td>-0.958790</td>\n",
       "      <td>0.278420</td>\n",
       "      <td>-0.682199</td>\n",
       "      <td>-0.549124</td>\n",
       "      <td>1.151717</td>\n",
       "      <td>-0.399044</td>\n",
       "      <td>0.973098</td>\n",
       "      <td>1.546274</td>\n",
       "    </tr>\n",
       "    <tr>\n",
       "      <th>all</th>\n",
       "      <td>-0.378709</td>\n",
       "      <td>-2.411903</td>\n",
       "      <td>-1.280113</td>\n",
       "      <td>-0.058757</td>\n",
       "      <td>-1.232674</td>\n",
       "      <td>-1.067893</td>\n",
       "      <td>-0.384802</td>\n",
       "      <td>0.381002</td>\n",
       "      <td>-0.203016</td>\n",
       "      <td>0.701796</td>\n",
       "      <td>...</td>\n",
       "      <td>0.290038</td>\n",
       "      <td>-0.561886</td>\n",
       "      <td>0.724353</td>\n",
       "      <td>-0.548846</td>\n",
       "      <td>-0.804503</td>\n",
       "      <td>0.017718</td>\n",
       "      <td>-0.148947</td>\n",
       "      <td>0.524580</td>\n",
       "      <td>-0.217107</td>\n",
       "      <td>-1.251477</td>\n",
       "    </tr>\n",
       "  </tbody>\n",
       "</table>\n",
       "<p>5 rows × 100 columns</p>\n",
       "</div>"
      ],
      "text/plain": [
       "              0         1         2         3         4         5         6   \\\n",
       "brow,   0.865480  0.244428 -0.662357  0.807966  0.440917  1.171817  1.773097   \n",
       "when    0.161792  1.258247  1.333586 -0.497409 -1.987871  1.806625  0.104210   \n",
       "sunken  0.216409 -0.574682  1.457797  1.772927 -2.019397  0.422851  0.572978   \n",
       "blood   0.146448  0.201955  1.057311  0.132179  1.403893  0.487716 -0.704623   \n",
       "all    -0.378709 -2.411903 -1.280113 -0.058757 -1.232674 -1.067893 -0.384802   \n",
       "\n",
       "              7         8         9   ...        90        91        92  \\\n",
       "brow,  -0.094569  0.061527 -0.618992  ... -1.478321 -1.136453 -0.100516   \n",
       "when    0.341012 -0.649381 -0.286051  ... -1.107141 -0.700797  0.235511   \n",
       "sunken -1.798801  1.248594  1.277396  ...  0.247482 -0.387332 -0.202092   \n",
       "blood  -0.829265  0.101558  0.195852  ...  0.344618 -0.551646 -0.958790   \n",
       "all     0.381002 -0.203016  0.701796  ...  0.290038 -0.561886  0.724353   \n",
       "\n",
       "              93        94        95        96        97        98        99  \n",
       "brow,   0.344243 -1.067022 -0.874013  0.205001  0.302225  0.537401 -0.429595  \n",
       "when    1.917278  1.837039  1.323092 -0.076608  0.346435 -0.656676  1.560256  \n",
       "sunken -0.836490 -1.552361 -0.058105  1.201229 -2.287992 -1.013429 -0.891653  \n",
       "blood   0.278420 -0.682199 -0.549124  1.151717 -0.399044  0.973098  1.546274  \n",
       "all    -0.548846 -0.804503  0.017718 -0.148947  0.524580 -0.217107 -1.251477  \n",
       "\n",
       "[5 rows x 100 columns]"
      ]
     },
     "execution_count": 6,
     "metadata": {},
     "output_type": "execute_result"
    }
   ],
   "source": [
    "import pandas as pd\n",
    "embeddings = model.embeddings(torch.Tensor([list(range(0,len(vocab)))]).long())\n",
    "embeddings = embeddings.view(-1,100)\n",
    "pd.DataFrame(embeddings.tolist(), index=list(ix_to_word.values())[0:]).head()"
   ]
  },
  {
   "cell_type": "markdown",
   "metadata": {},
   "source": [
    "We can also plot the embeddings with TSNE to visualize the similarity"
   ]
  },
  {
   "cell_type": "code",
   "execution_count": 7,
   "metadata": {},
   "outputs": [],
   "source": [
    "labels=[]\n",
    "for i in range(len(ix_to_word)):\n",
    "    labels.append(ix_to_word[i])"
   ]
  },
  {
   "cell_type": "code",
   "execution_count": 8,
   "metadata": {
    "scrolled": true
   },
   "outputs": [
    {
     "data": {
      "image/png": "[encoded data removed]",
      "text/plain": [
       "<Figure size 1000x1000 with 1 Axes>"
      ]
     },
     "metadata": {},
     "output_type": "display_data"
    }
   ],
   "source": [
    "from matplotlib import pylab\n",
    "from sklearn.manifold import TSNE\n",
    "\n",
    "tsne = TSNE(n_components=2)\n",
    "two_d_embeddings = tsne.fit_transform(embeddings.detach().numpy())\n",
    "\n",
    "def plot(embeddings, labels):\n",
    "      assert embeddings.shape[0] >= len(labels), 'More labels than embeddings'\n",
    "      pylab.figure(figsize=(10,10))  # in inches\n",
    "      for i, label in enumerate(labels):\n",
    "        x, y = embeddings[i,:]\n",
    "        pylab.scatter(x, y)\n",
    "        pylab.annotate(label, xy=(x, y), xytext=(5, 2), textcoords='offset points',\n",
    "                       ha='right', va='bottom')\n",
    "      pylab.show()\n",
    "\n",
    "\n",
    "plot(two_d_embeddings, labels)"
   ]
  },
  {
   "cell_type": "code",
   "execution_count": 9,
   "metadata": {},
   "outputs": [
    {
     "name": "stdout",
     "output_type": "stream",
     "text": [
      "Raw text: When forty winters shall besiege thy brow, And dig deep trenches in thy beauty's field, Thy youth's proud livery so gazed on now, Will be a totter'd weed of small worth held: Then being asked, where all thy beauty lies, Where all the treasure of thy lusty days; To say, within thine own deep sunken eyes, Were an all-eating shame, and thriftless praise. How much more praise deserv'd thy beauty's use, If thou couldst answer 'This fair child of mine Shall sum my count, and make my old excuse,' Proving his beauty by succession thine! This were to be new made when thou art old, And see thy blood warm when thou feel'st it cold.\n",
      "\n",
      "Context: ['When', 'forty']\n",
      "\n",
      "Prediction: winters\n"
     ]
    }
   ],
   "source": [
    "context = ['When','forty']\n",
    "\n",
    "a = model(torch.tensor([word_to_ix[w] for w in context]))\n",
    "\n",
    "#Print result\n",
    "print(f'Raw text: {\" \".join(test_sentence)}\\n')\n",
    "print(f'Context: {context}\\n')\n",
    "print(f'Prediction: {ix_to_word[torch.argmax(a[0]).item()]}')"
   ]
  },
  {
   "cell_type": "markdown",
   "metadata": {
    "id": "TuCM5LSqjR4V"
   },
   "source": [
    "# Practical part  1: Computing Word Embeddings -- Continuous Bag-of-Words in a Toy example\n",
    "\n",
    "\n",
    "The Continuous Bag-of-Words model (CBOW) is frequently used in NLP deep\n",
    "learning. It is a model that tries to predict words given the context of\n",
    "a few words before and a few words after the target word. This is\n",
    "distinct from typical practices in language modeling, since CBOW is not sequential and does\n",
    "not have to be probabilistic. Typcially, CBOW is used to quickly train\n",
    "word embeddings, and these embeddings are used to initialize the\n",
    "embeddings of some more complicated model. Usually, this is referred to\n",
    "as *pretraining embeddings*. It almost always helps performance a couple\n",
    "of percent.\n",
    "\n",
    "The CBOW model is as follows. Given a target word $w_i$ and an\n",
    "$N$ context window on each side, $w_{i-1}, \\dots, w_{i-N}$\n",
    "and $w_{i+1}, \\dots, w_{i+N}$, referring to all context words\n",
    "collectively as $C$, CBOW tries to minimize\n",
    "\n",
    "\\begin{align}-\\log p(w_i | C) = -\\log \\text{Softmax}(A(\\sum_{w \\in C} q_w) + b)\\end{align}\n",
    "\n",
    "where $q_w$ is the embedding for word $w$.\n",
    "\n",
    "Implement this model in Pytorch by filling in the class below. Some\n",
    "tips:\n",
    "\n",
    "* Think about which parameters you need to define.\n",
    "* Make sure you know what shape each operation expects. Use .view() if you need to\n",
    "  reshape.\n",
    "\n"
   ]
  },
  {
   "cell_type": "markdown",
   "metadata": {},
   "source": [
    "##  Data Preprocessing\n",
    "\n",
    "The CBOW model architecture tries to predict the current target word (the center word) based on the source context words (surrounding words). Considering a simple sentence, `the quick brown fox jumps over the lazy dog`, this can be pairs of (context_window, target_word) where if we consider a context size 2 (2 words to the left, 2 to the right),  we have examples like `([the, quick, fox, jumps], brown)` and so on. Thus the model tries to predict the target_word based on the context_window words.\n",
    "\n",
    "\n",
    "Therefore should build a list of tuples.  Each tuple is `([ word_i-2, word_i-1,word_i+1, word_i+2 ], target word)`, we also build dictionaries to map from words to indices, i.e. word_to_ix, and map from indices to words, i.e. ix_to_word,"
   ]
  },
  {
   "cell_type": "code",
   "execution_count": 10,
   "metadata": {},
   "outputs": [
    {
     "name": "stdout",
     "output_type": "stream",
     "text": [
      "[(['We', 'are', 'to', 'study'], 'about'), (['are', 'about', 'study', 'the'], 'to'), (['about', 'to', 'the', 'idea'], 'study'), (['to', 'study', 'idea', 'of'], 'the'), (['study', 'the', 'of', 'a'], 'idea')]\n"
     ]
    }
   ],
   "source": [
    "import torch\n",
    "import torch.nn as nn\n",
    "\n",
    "\n",
    "CONTEXT_SIZE = 2  # 2 words to the left, 2 to the right\n",
    "EMBEDDING_DIM = 100\n",
    "\n",
    "raw_text = \"\"\"We are about to study the idea of a computational process.\n",
    "Computational processes are abstract beings that inhabit computers.\n",
    "As they evolve, processes manipulate other abstract things called data.\n",
    "The evolution of a process is directed by a pattern of rules\n",
    "called a program. People create programs to direct processes. In effect,\n",
    "we conjure the spirits of the computer with our spells.\"\"\".split()\n",
    "\n",
    "\n",
    "# By deriving a set from `raw_text`, we deduplicate the array\n",
    "vocab = set(raw_text)\n",
    "vocab_size = len(vocab)\n",
    "\n",
    "word_to_ix = {word:ix for ix, word in enumerate(vocab)}\n",
    "ix_to_word = {ix:word for ix, word in enumerate(vocab)}\n",
    "\n",
    "data = []\n",
    "for i in range(2, len(raw_text) - 2):\n",
    "    context = [raw_text[i - 2], raw_text[i - 1],\n",
    "               raw_text[i + 1], raw_text[i + 2]]\n",
    "    target = raw_text[i]\n",
    "    data.append((context, target))\n",
    "    \n",
    "print(data[:5])"
   ]
  },
  {
   "cell_type": "markdown",
   "metadata": {},
   "source": [
    "\n",
    "## Create CBoW Model\n",
    "Following is an image to illustrate the model architecture. We set the word embedding size to be 100 (or other by your preference)."
   ]
  },
  {
   "cell_type": "markdown",
   "metadata": {},
   "source": [
    "![avatar](https://miro.medium.com/max/328/1*bkrBASpteKfCaxZDEEeN6g.png)"
   ]
  },
  {
   "cell_type": "code",
   "execution_count": 11,
   "metadata": {
    "id": "c83HvD2hjR4W",
    "scrolled": true
   },
   "outputs": [
    {
     "name": "stdout",
     "output_type": "stream",
     "text": [
      "Epoch: 0 \tLoss: 2.3619749018576295\n",
      "Epoch: 1 \tLoss: 2.1296629568116856\n",
      "Epoch: 2 \tLoss: 1.9182927977722304\n",
      "Epoch: 3 \tLoss: 1.7268935526366782\n",
      "Epoch: 4 \tLoss: 1.5541591844727507\n",
      "Epoch: 5 \tLoss: 1.3979231045309422\n",
      "Epoch: 6 \tLoss: 1.256114872683466\n",
      "Epoch: 7 \tLoss: 1.1273450925286892\n",
      "Epoch: 8 \tLoss: 1.0107716701726999\n",
      "Epoch: 9 \tLoss: 0.9057966839950696\n",
      "Epoch: 10 \tLoss: 0.8118544954114255\n",
      "Epoch: 11 \tLoss: 0.7283060642997775\n",
      "Epoch: 12 \tLoss: 0.6544083095757307\n",
      "Epoch: 13 \tLoss: 0.5893310762084691\n",
      "Epoch: 14 \tLoss: 0.5321990264728006\n",
      "Epoch: 15 \tLoss: 0.4821368513909061\n",
      "Epoch: 16 \tLoss: 0.43830536780631646\n",
      "Epoch: 17 \tLoss: 0.3999241561488768\n",
      "Epoch: 18 \tLoss: 0.3662829902847256\n",
      "Epoch: 19 \tLoss: 0.3367463012712192\n",
      "Epoch: 20 \tLoss: 0.3107529364328469\n",
      "Epoch: 21 \tLoss: 0.28781355785585083\n",
      "Epoch: 22 \tLoss: 0.2675054313334744\n",
      "Epoch: 23 \tLoss: 0.24946605466899618\n",
      "Epoch: 24 \tLoss: 0.23338595032691956\n",
      "Epoch: 25 \tLoss: 0.21900148023810007\n",
      "Epoch: 26 \tLoss: 0.2060884079047009\n",
      "Epoch: 27 \tLoss: 0.1944556914072121\n",
      "Epoch: 28 \tLoss: 0.18394050555946553\n",
      "Epoch: 29 \tLoss: 0.1744037875823215\n",
      "Epoch: 30 \tLoss: 0.16572650014299206\n",
      "Epoch: 31 \tLoss: 0.15780659059507657\n",
      "Epoch: 32 \tLoss: 0.15055622167028157\n",
      "Epoch: 33 \tLoss: 0.1438996721289854\n",
      "Epoch: 34 \tLoss: 0.1377714894118562\n",
      "Epoch: 35 \tLoss: 0.13211483963295423\n",
      "Epoch: 36 \tLoss: 0.1268803203659775\n",
      "Epoch: 37 \tLoss: 0.12202483145272837\n",
      "Epoch: 38 \tLoss: 0.11751063998821562\n",
      "Epoch: 39 \tLoss: 0.11330461432844137\n",
      "Epoch: 40 \tLoss: 0.1093776034504439\n",
      "Epoch: 41 \tLoss: 0.10570385257622837\n",
      "Epoch: 42 \tLoss: 0.10226056411598636\n",
      "Epoch: 43 \tLoss: 0.09902753713911613\n",
      "Epoch: 44 \tLoss: 0.09598670375689997\n",
      "Epoch: 45 \tLoss: 0.09312199491315183\n",
      "Epoch: 46 \tLoss: 0.09041900431687853\n",
      "Epoch: 47 \tLoss: 0.0878648441120059\n",
      "Epoch: 48 \tLoss: 0.08544786930479835\n",
      "Epoch: 49 \tLoss: 0.08315760207123461\n"
     ]
    }
   ],
   "source": [
    "class CBOW(torch.nn.Module):\n",
    "    def __init__(self, vocab_size, embedding_dim, context_size):\n",
    "        # === ADD CODE HERE ===\n",
    "        super(CBOW, self).__init__()\n",
    "        self.embeddings = nn.Embedding(vocab_size, embedding_dim)\n",
    "        self.num_embeds = 2 * context_size\n",
    "        self.linear = nn.Linear(embedding_dim, vocab_size)\n",
    "\n",
    "    def forward(self, inputs):\n",
    "         # === ADD CODE HERE ===\n",
    "        embeds = self.embeddings(inputs).view((self.num_embeds, -1))\n",
    "        out = self.linear(torch.sum(embeds, 0, keepdim=True))\n",
    "        log_probs = F.log_softmax(out, dim=1)\n",
    "        return log_probs\n",
    "\n",
    "# create your model and train.  here are some functions to help you make\n",
    "# the data ready for use by your module\n",
    "\n",
    "def make_context_vector(context, word_to_ix):\n",
    "    idxs = [word_to_ix[w] for w in context]\n",
    "    return torch.tensor(idxs, dtype=torch.long)\n",
    "\n",
    "loss_function = nn.NLLLoss()\n",
    "model = CBOW(len(vocab), EMBEDDING_DIM, CONTEXT_SIZE)\n",
    "optimizer = optim.SGD(model.parameters(), lr=0.001)\n",
    "\n",
    "#TRAINING\n",
    "for epoch in range(50):\n",
    "    # === ADD CODE HERE ===\n",
    "    total_loss = 0\n",
    "    for context, target in data:\n",
    "        context_idxs = torch.tensor([word_to_ix[w] for w in context], dtype=torch.long)\n",
    "        model.zero_grad()\n",
    "        log_probs = model(context_idxs)\n",
    "\n",
    "        loss = loss_function(log_probs, torch.tensor([word_to_ix[target]], dtype=torch.long))\n",
    "\n",
    "        loss.backward()\n",
    "        optimizer.step()\n",
    "\n",
    "        total_loss += loss.item()\n",
    "    average_loss= total_loss/len(trigrams)\n",
    "    print('Epoch:', epoch, '\\tLoss:', average_loss)  # The loss decreased every iteration over the training data!"
   ]
  },
  {
   "cell_type": "markdown",
   "metadata": {},
   "source": [
    "##  Check the results\n",
    "\n",
    "Then we check the results by making predictions of target work by context"
   ]
  },
  {
   "cell_type": "code",
   "execution_count": 12,
   "metadata": {
    "scrolled": true
   },
   "outputs": [
    {
     "name": "stdout",
     "output_type": "stream",
     "text": [
      "Raw text: We are about to study the idea of a computational process. Computational processes are abstract beings that inhabit computers. As they evolve, processes manipulate other abstract things called data. The evolution of a process is directed by a pattern of rules called a program. People create programs to direct processes. In effect, we conjure the spirits of the computer with our spells.\n",
      "\n",
      "Context: ['People', 'create', 'to', 'direct']\n",
      "\n",
      "Prediction: programs\n"
     ]
    }
   ],
   "source": [
    "context = ['People','create','to', 'direct']\n",
    "context_vector = make_context_vector(context, word_to_ix)\n",
    "a = model(context_vector)\n",
    "\n",
    "#Print result\n",
    "print(f'Raw text: {\" \".join(raw_text)}\\n')\n",
    "print(f'Context: {context}\\n')\n",
    "print(f'Prediction: {ix_to_word[torch.argmax(a[0]).item()]}')"
   ]
  },
  {
   "cell_type": "markdown",
   "metadata": {},
   "source": [
    "# Practical part 2: Computing Word Embeddings in  `Alice in Wonderland` using CBoW"
   ]
  },
  {
   "cell_type": "markdown",
   "metadata": {},
   "source": [
    "Now let's try to build word embedding in a  ‘Alice in Wonderland’ instead of a toy example.  Download the word-label mapping dictionaries and corpus by this [link](https://drive.google.com/drive/folders/1mYM29PbWQ4rS0bgKndFJjZlkbcwMaEpO?usp=sharing), and upload them into your own Google drive if you're using Colab. After that, mount them to the drive folder so we can use them in Colab by using the cells below:"
   ]
  },
  {
   "cell_type": "markdown",
   "metadata": {},
   "source": [
    "##  Data Preprocessing"
   ]
  },
  {
   "cell_type": "code",
   "execution_count": 13,
   "metadata": {},
   "outputs": [],
   "source": [
    "# use the below two cells to mount your drive if you're using Google Colab\n",
    "# from google.colab import drive\n",
    "# !mkdir drive\n",
    "# drive.mount('drive')"
   ]
  },
  {
   "cell_type": "markdown",
   "metadata": {},
   "source": [
    "Let's list all the data in your drive to see if we mounted successfully:"
   ]
  },
  {
   "cell_type": "code",
   "execution_count": 14,
   "metadata": {},
   "outputs": [],
   "source": [
    "# !ls \"drive/My Drive/\""
   ]
  },
  {
   "cell_type": "code",
   "execution_count": 15,
   "metadata": {},
   "outputs": [],
   "source": [
    "# modify the path according to your own file location\n",
    "import os\n",
    "data_path=os.path.join(\"/Users/pelokbal/Uni/Q4/2AMM10/2AMM10_Practicals/data\")\n",
    "# if you are not using Colab, change data_path above to where you stored the data locally\n"
   ]
  },
  {
   "cell_type": "markdown",
   "metadata": {},
   "source": [
    "Now we load the data:"
   ]
  },
  {
   "cell_type": "code",
   "execution_count": 16,
   "metadata": {},
   "outputs": [],
   "source": [
    "import json\n",
    "with open(os.path.join(data_path,\"alice.json\"),'r') as f:\n",
    "    alice = json.load(f)\n",
    "with open(os.path.join(data_path,\"ix_to_word.json\"),'r') as f:\n",
    "    ix_to_word = json.load(f)\n",
    "with open(os.path.join(data_path,\"word_to_ix.json\"),'r') as f:\n",
    "    word_to_ix = json.load(f)"
   ]
  },
  {
   "cell_type": "markdown",
   "metadata": {},
   "source": [
    "Then we create the context and target pairs by borrowing some keras utilities. We set the window_size 2 (2 words to the left, 2 to the right)."
   ]
  },
  {
   "cell_type": "code",
   "execution_count": 17,
   "metadata": {},
   "outputs": [
    {
     "name": "stderr",
     "output_type": "stream",
     "text": [
      "/var/folders/w0/2rh4b4h16zdgh0jjh4zcw_vr0000gn/T/ipykernel_83354/4119173882.py:24: UserWarning: Creating a tensor from a list of numpy.ndarrays is extremely slow. Please consider converting the list to a single numpy.ndarray with numpy.array() before converting to a tensor. (Triggered internally at /Users/runner/work/pytorch/pytorch/pytorch/torch/csrc/utils/tensor_new.cpp:277.)\n",
      "  X=torch.tensor(X, dtype=torch.long)\n"
     ]
    }
   ],
   "source": [
    "window_size=2\n",
    "vocab_size=len(word_to_ix)\n",
    "\n",
    "from tensorflow.keras.preprocessing import text\n",
    "from tensorflow.keras.preprocessing import sequence\n",
    "from tensorflow.keras.utils import pad_sequences\n",
    "\n",
    "corpus = [[word_to_ix[w] for w in text.text_to_word_sequence(doc)] for doc in alice]\n",
    "\n",
    "def generate_context_word_pairs(corpus, window_size, vocab_size):\n",
    "    X = []\n",
    "    Y = []\n",
    "    context_length = window_size*2\n",
    "    for words in corpus:\n",
    "        sentence_length = len(words)\n",
    "        for index, word in enumerate(words):           \n",
    "            start = index - window_size\n",
    "            end = index + window_size + 1\n",
    "            context = [words[i] for i in range(start, end)if 0 <= i < sentence_length and i != index]\n",
    "            x = pad_sequences([context], maxlen=context_length)[0]\n",
    "            X.append(x)\n",
    "            Y.append([word])\n",
    "\n",
    "    X=torch.tensor(X, dtype=torch.long)\n",
    "    Y=torch.tensor(Y, dtype=torch.long)\n",
    "    return X,Y\n",
    "\n",
    "X,Y = generate_context_word_pairs(corpus, window_size=window_size, vocab_size=vocab_size)"
   ]
  },
  {
   "cell_type": "markdown",
   "metadata": {},
   "source": [
    "\n",
    "##  Create CBoW Model\n",
    "Now we create CBoW model, we could set the word embedding size to be 100 (or  some other number if you prefer)."
   ]
  },
  {
   "cell_type": "code",
   "execution_count": 18,
   "metadata": {},
   "outputs": [],
   "source": [
    "class CBOW(torch.nn.Module):\n",
    "    def __init__(self, vocab_size, embedding_dim, context_size=CONTEXT_SIZE):\n",
    "        # === ADD CODE HERE ===\n",
    "        super(CBOW, self).__init__()\n",
    "        self.embeddings = nn.Embedding(vocab_size, embedding_dim)\n",
    "        self.num_embeds = 2 * context_size\n",
    "        self.linear = nn.Linear(embedding_dim, vocab_size)\n",
    "\n",
    "    def forward(self, inputs):\n",
    "         # === ADD CODE HERE ===\n",
    "        embeds = self.embeddings(inputs).view((self.num_embeds, -1))\n",
    "        out = self.linear(torch.sum(embeds, 0, keepdim=True))\n",
    "        log_probs = F.log_softmax(out, dim=1)\n",
    "        return log_probs\n",
    "\n",
    "EMBEDDING_DIM=100\n",
    "\n",
    "loss_function = nn.NLLLoss()\n",
    "model = CBOW(vocab_size,EMBEDDING_DIM)\n",
    "optimizer = optim.SGD(model.parameters(), lr=0.001, momentum=0.9)"
   ]
  },
  {
   "cell_type": "markdown",
   "metadata": {},
   "source": [
    "Remember to move your model to GPU, since now we are training with a larger corpus."
   ]
  },
  {
   "cell_type": "code",
   "execution_count": 19,
   "metadata": {},
   "outputs": [],
   "source": [
    "# Move model to GPU\n",
    "# === ADD CODE HERE ===\n",
    "# model.cuda()"
   ]
  },
  {
   "cell_type": "markdown",
   "metadata": {},
   "source": [
    "Then we train the model and print the loss. The loss should decrease with every epoch over the training data. You can play with the epochs numbers here."
   ]
  },
  {
   "cell_type": "code",
   "execution_count": 52,
   "metadata": {},
   "outputs": [
    {
     "name": "stdout",
     "output_type": "stream",
     "text": [
      "Epoch: 0 \tLoss: 4.319441021160478\n",
      "Epoch: 1 \tLoss: 3.710647123398123\n",
      "Epoch: 2 \tLoss: 3.323971688091007\n",
      "Epoch: 3 \tLoss: 3.0619330180973336\n",
      "Epoch: 4 \tLoss: 2.8652556361021873\n",
      "Epoch: 5 \tLoss: 2.7055550644980464\n",
      "Epoch: 6 \tLoss: 2.569771696091176\n",
      "Epoch: 7 \tLoss: 2.449299380316572\n",
      "Epoch: 8 \tLoss: 2.339989504243083\n",
      "Epoch: 9 \tLoss: 2.238510471453824\n"
     ]
    }
   ],
   "source": [
    "#TRAINING\n",
    "for epoch in range(10):\n",
    "# === ADD CODE HERE ===\n",
    "    total_loss = 0\n",
    "    for x, y in zip(X, Y):\n",
    "        model.zero_grad()\n",
    "        log_probs = model(x)\n",
    "\n",
    "        loss = loss_function(log_probs, torch.tensor([y], dtype=torch.long))\n",
    "\n",
    "        loss.backward()\n",
    "        optimizer.step()\n",
    "\n",
    "        total_loss += loss.item()\n",
    "    average_loss= total_loss/len(X)\n",
    "    print('Epoch:', epoch, '\\tLoss:', average_loss)  # The loss decreased every iteration over the training data!\n"
   ]
  },
  {
   "cell_type": "markdown",
   "metadata": {},
   "source": [
    "# Practical. 3: Analogy Task"
   ]
  },
  {
   "cell_type": "markdown",
   "metadata": {},
   "source": [
    "\n",
    "\n",
    "\n",
    "**Reading material**\n",
    "* [1] Mikolov, Tomas, et al. \"[Efficient Estimation of Word Representations in Vector Space](https://arxiv.org/abs/1301.3781)\" Advances in neural information processing systems. 2013. \n"
   ]
  },
  {
   "cell_type": "markdown",
   "metadata": {},
   "source": [
    "Implement your own function to perform the analogy task (see [1] for concrete examples). Use the same distance metric as in [1]. Your function should be able to answer whether an analogy like: \"a king is to a queen as a man is to a woman\" ($e_{king} - e_{queen} + e_{woman} \\approx e_{man}$) is true. \n",
    "\n",
    "In a perfect scenario, we would like that this analogy ($e_{king} - e_{queen} + e_{woman}$) results in the embedding of the word \"man\". However, it does not always result in exactly the same word embedding. The result of the formula is called the expected or the predicted word embedding. In this context, \"man\" is called the true or the actual word $t$. We want to find the word $p$ in the vocabulary, where the embedding of $p$ (referred to as $e_p$) is the closest to the predicted embedding (i.e. result of the formula). Then, we can check if $p$ is the same word as the true word $t$.  \n",
    "\n",
    "You have to answer an analogy function using each embedding for  CBOW model. Show the true word (with distance similarity value between predicted embedding and true word embedding, i.e. `sim1`) , the predicted word (with distance similarity value between predicted embedding and the embedding of the word in the vocabulary that is closest to this predicted embedding, i.e. `sim2`).\n",
    "\n",
    "Since `Alice in wonder land` is a relatively small dataset to training the model for the analogy task,  we may find it is difficult to get the correct answer by searching the nearest word embedding. Therefore, we extend the predicted word to the nearest `nr` number of words and check if the true word is within them. Do not expect the `nr` to be very small, it could be tens or hundreds."
   ]
  },
  {
   "cell_type": "markdown",
   "metadata": {},
   "source": [
    "<b>HINT</b>: to visualize the results of the analogy tasks , you can print them in a table. An example is given below.\n",
    "\n",
    "\n",
    "| Analogy task | True word (sim1)  | Predicted nearaest word (sim2) | Correct? |True word within the top `nr` nearest word?|\n",
    "|:------:|:------:|:------:|:------:|:------:|\n",
    "|  queen is to king as woman is to ?\t | man (sim1) | predicted_word(sim2) | True / False |   True / False|"
   ]
  },
  {
   "cell_type": "code",
   "execution_count": 20,
   "metadata": {},
   "outputs": [],
   "source": [
    "analogy=('queen', 'king', 'woman', 'man')"
   ]
  },
  {
   "cell_type": "markdown",
   "metadata": {},
   "source": [
    "First let us extract the embeddings of all vocabularies for the following task"
   ]
  },
  {
   "cell_type": "code",
   "execution_count": 21,
   "metadata": {},
   "outputs": [],
   "source": [
    "dev = torch.device(\n",
    "    \"cuda\") if torch.cuda.is_available() else torch.device(\"cpu\")"
   ]
  },
  {
   "cell_type": "code",
   "execution_count": 22,
   "metadata": {},
   "outputs": [],
   "source": [
    "embeddings = model.embeddings(torch.Tensor([list(range(0,vocab_size))]).long().to(dev))\n",
    "embeddings = embeddings.view(-1,100)\n",
    "embeddings = embeddings.cpu().detach().numpy()"
   ]
  },
  {
   "cell_type": "markdown",
   "metadata": {},
   "source": [
    "Then we define a 'get_nearest_words' function to retrive the nearest `nr` words to a certain word embedding"
   ]
  },
  {
   "cell_type": "code",
   "execution_count": 34,
   "metadata": {},
   "outputs": [],
   "source": [
    "from numpy.linalg import norm\n",
    "\n",
    "def get_nearest_words(embedding: np.ndarray, others: np.ndarray, nr: int):\n",
    "    # === ADD CODE HERE ===\n",
    "    distances = 1 - np.dot(others, embedding) / (norm(others, axis=1) * norm(embedding))\n",
    "    return [ix_to_word[str(i)] for i in np.argsort(distances)[:nr]]"
   ]
  },
  {
   "cell_type": "markdown",
   "metadata": {},
   "source": [
    "Now let's search for the nearest `one` and `nr` words of the predicted word embedding, and print results of the analogy tasks"
   ]
  },
  {
   "cell_type": "code",
   "execution_count": 35,
   "metadata": {},
   "outputs": [],
   "source": [
    "def print_analogy(analogy, nr):\n",
    "    # === ADD CODE HERE ===\n",
    "    # x is to y as z is to ?\n",
    "    x = embeddings[word_to_ix[analogy[0]]]\n",
    "    y = embeddings[word_to_ix[analogy[1]]]\n",
    "    z = embeddings[word_to_ix[analogy[2]]]\n",
    "    vect = x - y + z\n",
    "\n",
    "    nearest = get_nearest_words(vect, embeddings, nr)\n",
    "    print(nearest[0])\n",
    "    print(nearest)"
   ]
  },
  {
   "cell_type": "code",
   "execution_count": 36,
   "metadata": {},
   "outputs": [
    {
     "name": "stdout",
     "output_type": "stream",
     "text": [
      "queen\n",
      "['queen', 'woman', 'grammar', 'overhead', 'william']\n"
     ]
    }
   ],
   "source": [
    "print_analogy(analogy, 5)"
   ]
  }
 ],
 "metadata": {
  "colab": {
   "include_colab_link": true,
   "name": "P1.2_Word_embedding.ipynb",
   "provenance": []
  },
  "kernelspec": {
   "display_name": "Python 3 (ipykernel)",
   "language": "python",
   "name": "python3"
  },
  "language_info": {
   "codemirror_mode": {
    "name": "ipython",
    "version": 3
   },
   "file_extension": ".py",
   "mimetype": "text/x-python",
   "name": "python",
   "nbconvert_exporter": "python",
   "pygments_lexer": "ipython3",
   "version": "3.11.8"
  }
 },
 "nbformat": 4,
 "nbformat_minor": 1
}
